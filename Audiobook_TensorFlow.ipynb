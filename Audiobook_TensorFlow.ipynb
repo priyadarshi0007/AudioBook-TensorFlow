{
 "cells": [
  {
   "cell_type": "code",
   "execution_count": 1,
   "metadata": {},
   "outputs": [],
   "source": [
    "import tensorflow as tf\n",
    "import numpy as np"
   ]
  },
  {
   "cell_type": "code",
   "execution_count": 4,
   "metadata": {},
   "outputs": [],
   "source": [
    "npz = np.load('Audiobooks_data_train.npz')\n",
    "\n",
    "\n",
    "train_inputs = npz['inputs'].astype(np.float)\n",
    "train_targets = npz['targets'].astype(np.int)\n",
    "\n",
    "\n",
    "npz_valiadation = np.load('Audiobooks_data_validation.npz')\n",
    "\n",
    "validation_inputs = npz_valiadation['inputs'].astype(np.float)\n",
    "validation_targets = npz_valiadation['targets'].astype(np.int)\n",
    "\n",
    "npz_test = np.load('Audiobooks_data_test.npz')\n",
    "\n",
    "test_inputs = npz_test['inputs'].astype(np.float)\n",
    "test_targets = npz_test['targets'].astype(np.int)"
   ]
  },
  {
   "cell_type": "code",
   "execution_count": 9,
   "metadata": {},
   "outputs": [
    {
     "name": "stdout",
     "output_type": "stream",
     "text": [
      "(3579, 10)\n",
      "(3579,)\n",
      "(447, 10)\n",
      "(447,)\n",
      "(448, 10)\n",
      "(448,)\n"
     ]
    }
   ],
   "source": [
    "print(train_inputs.shape)\n",
    "print(train_targets.shape)\n",
    "\n",
    "print(validation_inputs.shape)\n",
    "print(validation_targets.shape)\n",
    "\n",
    "print(test_inputs.shape)\n",
    "print(test_targets.shape)"
   ]
  },
  {
   "cell_type": "code",
   "execution_count": null,
   "metadata": {},
   "outputs": [],
   "source": [
    "#train_inputs = np.argmax(npz['inputs'], axis=1)\n",
    "#train_targets = np.argmax(npz['targets'], axis = 1)\n",
    "\n",
    "#validation_inputs = np.argmax(npz_valiadation['inputs'],axis = 1)\n",
    "#validation_targets = np.argmax(npz_valiadation['targets'], axis = 1)\n",
    "\n",
    "#test_inputs = np.argmax(npz_test['inputs'],axis = 1)\n",
    "#test_targets = np.argmax(npz_test['targets'], axis = 1)"
   ]
  },
  {
   "cell_type": "code",
   "execution_count": 6,
   "metadata": {},
   "outputs": [],
   "source": [
    "inpit_size = 10\n",
    "output_size =2\n",
    "hidden_layer_size = 50\n",
    "\n",
    "# define how the model will look like\n",
    "model = tf.keras.Sequential([\n",
    "    # tf.keras.layers.Dense is basically implementing: output = activation(dot(input, weight) + bias)\n",
    "    # it takes several arguments, but the most important ones for us are the hidden_layer_size and the activation function\n",
    "    tf.keras.layers.Dense(hidden_layer_size, activation='relu'), # 1st hidden layer\n",
    "    tf.keras.layers.Dense(hidden_layer_size, activation='relu'), # 2nd hidden layer\n",
    "    # the final layer is no different, we just make sure to activate it with softmax\n",
    "    tf.keras.layers.Dense(output_size, activation='softmax') # output layer\n",
    "])"
   ]
  },
  {
   "cell_type": "code",
   "execution_count": 7,
   "metadata": {},
   "outputs": [],
   "source": [
    "model.compile(optimizer = 'adam', loss='sparse_categorical_crossentropy', metrics=['accuracy'])"
   ]
  },
  {
   "cell_type": "code",
   "execution_count": 11,
   "metadata": {},
   "outputs": [
    {
     "name": "stdout",
     "output_type": "stream",
     "text": [
      "Train on 3579 samples, validate on 447 samples\n",
      "Epoch 1/100\n",
      "3579/3579 - 0s - loss: 0.2240 - accuracy: 0.9170 - val_loss: 0.2479 - val_accuracy: 0.9038\n",
      "Epoch 2/100\n",
      "3579/3579 - 0s - loss: 0.2239 - accuracy: 0.9184 - val_loss: 0.2493 - val_accuracy: 0.9016\n",
      "Epoch 3/100\n",
      "3579/3579 - 0s - loss: 0.2234 - accuracy: 0.9201 - val_loss: 0.2418 - val_accuracy: 0.9016\n",
      "Epoch 4/100\n",
      "3579/3579 - 0s - loss: 0.2228 - accuracy: 0.9159 - val_loss: 0.2443 - val_accuracy: 0.9083\n",
      "Epoch 5/100\n",
      "3579/3579 - 0s - loss: 0.2216 - accuracy: 0.9184 - val_loss: 0.2427 - val_accuracy: 0.9016\n",
      "Epoch 6/100\n",
      "3579/3579 - 0s - loss: 0.2203 - accuracy: 0.9201 - val_loss: 0.2437 - val_accuracy: 0.9038\n",
      "Epoch 7/100\n",
      "3579/3579 - 0s - loss: 0.2201 - accuracy: 0.9204 - val_loss: 0.2466 - val_accuracy: 0.8993\n",
      "Epoch 8/100\n",
      "3579/3579 - 0s - loss: 0.2199 - accuracy: 0.9195 - val_loss: 0.2444 - val_accuracy: 0.9060\n",
      "Epoch 9/100\n",
      "3579/3579 - 0s - loss: 0.2193 - accuracy: 0.9195 - val_loss: 0.2447 - val_accuracy: 0.9016\n",
      "Epoch 10/100\n",
      "3579/3579 - 0s - loss: 0.2196 - accuracy: 0.9201 - val_loss: 0.2443 - val_accuracy: 0.9038\n",
      "Epoch 11/100\n",
      "3579/3579 - 0s - loss: 0.2167 - accuracy: 0.9218 - val_loss: 0.2399 - val_accuracy: 0.9060\n",
      "Epoch 12/100\n",
      "3579/3579 - 0s - loss: 0.2187 - accuracy: 0.9195 - val_loss: 0.2648 - val_accuracy: 0.8971\n",
      "Epoch 13/100\n",
      "3579/3579 - 0s - loss: 0.2188 - accuracy: 0.9204 - val_loss: 0.2381 - val_accuracy: 0.8993\n",
      "Epoch 14/100\n",
      "3579/3579 - 0s - loss: 0.2168 - accuracy: 0.9190 - val_loss: 0.2404 - val_accuracy: 0.9038\n",
      "Epoch 15/100\n",
      "3579/3579 - 0s - loss: 0.2145 - accuracy: 0.9212 - val_loss: 0.2420 - val_accuracy: 0.9016\n",
      "Epoch 16/100\n",
      "3579/3579 - 0s - loss: 0.2146 - accuracy: 0.9209 - val_loss: 0.2369 - val_accuracy: 0.9060\n",
      "Epoch 17/100\n",
      "3579/3579 - 0s - loss: 0.2134 - accuracy: 0.9209 - val_loss: 0.2412 - val_accuracy: 0.9060\n",
      "Epoch 18/100\n",
      "3579/3579 - 0s - loss: 0.2127 - accuracy: 0.9201 - val_loss: 0.2367 - val_accuracy: 0.9060\n",
      "Epoch 19/100\n",
      "3579/3579 - 0s - loss: 0.2133 - accuracy: 0.9215 - val_loss: 0.2385 - val_accuracy: 0.9038\n",
      "Epoch 20/100\n",
      "3579/3579 - 0s - loss: 0.2134 - accuracy: 0.9215 - val_loss: 0.2403 - val_accuracy: 0.9083\n",
      "Epoch 21/100\n",
      "3579/3579 - 0s - loss: 0.2116 - accuracy: 0.9226 - val_loss: 0.2369 - val_accuracy: 0.9038\n",
      "Epoch 22/100\n",
      "3579/3579 - 0s - loss: 0.2105 - accuracy: 0.9229 - val_loss: 0.2366 - val_accuracy: 0.9083\n",
      "Epoch 23/100\n",
      "3579/3579 - 0s - loss: 0.2112 - accuracy: 0.9218 - val_loss: 0.2423 - val_accuracy: 0.9016\n",
      "Epoch 24/100\n",
      "3579/3579 - 0s - loss: 0.2108 - accuracy: 0.9223 - val_loss: 0.2377 - val_accuracy: 0.9083\n",
      "Epoch 25/100\n",
      "3579/3579 - 0s - loss: 0.2111 - accuracy: 0.9237 - val_loss: 0.2430 - val_accuracy: 0.9038\n",
      "Epoch 26/100\n",
      "3579/3579 - 0s - loss: 0.2104 - accuracy: 0.9226 - val_loss: 0.2387 - val_accuracy: 0.9060\n",
      "Epoch 27/100\n",
      "3579/3579 - 0s - loss: 0.2102 - accuracy: 0.9226 - val_loss: 0.2411 - val_accuracy: 0.9083\n",
      "Epoch 28/100\n",
      "3579/3579 - 0s - loss: 0.2116 - accuracy: 0.9223 - val_loss: 0.2381 - val_accuracy: 0.9105\n",
      "Epoch 29/100\n",
      "3579/3579 - 0s - loss: 0.2091 - accuracy: 0.9223 - val_loss: 0.2336 - val_accuracy: 0.9038\n",
      "Epoch 30/100\n",
      "3579/3579 - 0s - loss: 0.2079 - accuracy: 0.9229 - val_loss: 0.2401 - val_accuracy: 0.9038\n",
      "Epoch 31/100\n",
      "3579/3579 - 0s - loss: 0.2088 - accuracy: 0.9212 - val_loss: 0.2444 - val_accuracy: 0.9038\n",
      "Epoch 32/100\n",
      "3579/3579 - 0s - loss: 0.2099 - accuracy: 0.9234 - val_loss: 0.2375 - val_accuracy: 0.9060\n",
      "Epoch 33/100\n",
      "3579/3579 - 0s - loss: 0.2088 - accuracy: 0.9229 - val_loss: 0.2396 - val_accuracy: 0.9105\n",
      "Epoch 34/100\n",
      "3579/3579 - 0s - loss: 0.2070 - accuracy: 0.9234 - val_loss: 0.2338 - val_accuracy: 0.9060\n",
      "Epoch 35/100\n",
      "3579/3579 - 0s - loss: 0.2075 - accuracy: 0.9234 - val_loss: 0.2376 - val_accuracy: 0.9060\n",
      "Epoch 36/100\n",
      "3579/3579 - 0s - loss: 0.2070 - accuracy: 0.9237 - val_loss: 0.2351 - val_accuracy: 0.9060\n",
      "Epoch 37/100\n",
      "3579/3579 - 0s - loss: 0.2052 - accuracy: 0.9223 - val_loss: 0.2441 - val_accuracy: 0.9128\n",
      "Epoch 38/100\n",
      "3579/3579 - 0s - loss: 0.2081 - accuracy: 0.9223 - val_loss: 0.2368 - val_accuracy: 0.9128\n",
      "Epoch 39/100\n",
      "3579/3579 - 0s - loss: 0.2071 - accuracy: 0.9232 - val_loss: 0.2395 - val_accuracy: 0.9060\n",
      "Epoch 40/100\n",
      "3579/3579 - 0s - loss: 0.2053 - accuracy: 0.9237 - val_loss: 0.2346 - val_accuracy: 0.9083\n",
      "Epoch 41/100\n",
      "3579/3579 - 0s - loss: 0.2085 - accuracy: 0.9226 - val_loss: 0.2365 - val_accuracy: 0.9016\n",
      "Epoch 42/100\n",
      "3579/3579 - 0s - loss: 0.2090 - accuracy: 0.9229 - val_loss: 0.2363 - val_accuracy: 0.9105\n",
      "Epoch 43/100\n",
      "3579/3579 - 0s - loss: 0.2074 - accuracy: 0.9232 - val_loss: 0.2336 - val_accuracy: 0.9060\n",
      "Epoch 44/100\n",
      "3579/3579 - 0s - loss: 0.2052 - accuracy: 0.9226 - val_loss: 0.2376 - val_accuracy: 0.9038\n",
      "Epoch 45/100\n",
      "3579/3579 - 0s - loss: 0.2032 - accuracy: 0.9234 - val_loss: 0.2348 - val_accuracy: 0.9060\n",
      "Epoch 46/100\n",
      "3579/3579 - 0s - loss: 0.2048 - accuracy: 0.9232 - val_loss: 0.2370 - val_accuracy: 0.9083\n",
      "Epoch 47/100\n",
      "3579/3579 - 0s - loss: 0.2042 - accuracy: 0.9237 - val_loss: 0.2431 - val_accuracy: 0.9083\n",
      "Epoch 48/100\n",
      "3579/3579 - 0s - loss: 0.2037 - accuracy: 0.9237 - val_loss: 0.2356 - val_accuracy: 0.9038\n",
      "Epoch 49/100\n",
      "3579/3579 - 0s - loss: 0.2050 - accuracy: 0.9240 - val_loss: 0.2431 - val_accuracy: 0.9105\n",
      "Epoch 50/100\n",
      "3579/3579 - 0s - loss: 0.2042 - accuracy: 0.9240 - val_loss: 0.2401 - val_accuracy: 0.9060\n",
      "Epoch 51/100\n",
      "3579/3579 - 0s - loss: 0.2029 - accuracy: 0.9240 - val_loss: 0.2341 - val_accuracy: 0.9083\n",
      "Epoch 52/100\n",
      "3579/3579 - 0s - loss: 0.2068 - accuracy: 0.9243 - val_loss: 0.2542 - val_accuracy: 0.9128\n",
      "Epoch 53/100\n",
      "3579/3579 - 0s - loss: 0.2097 - accuracy: 0.9209 - val_loss: 0.2298 - val_accuracy: 0.9060\n",
      "Epoch 54/100\n",
      "3579/3579 - 0s - loss: 0.2036 - accuracy: 0.9243 - val_loss: 0.2336 - val_accuracy: 0.9060\n",
      "Epoch 55/100\n",
      "3579/3579 - 0s - loss: 0.2010 - accuracy: 0.9237 - val_loss: 0.2434 - val_accuracy: 0.9038\n",
      "Epoch 56/100\n",
      "3579/3579 - 0s - loss: 0.2036 - accuracy: 0.9246 - val_loss: 0.2337 - val_accuracy: 0.9083\n",
      "Epoch 57/100\n",
      "3579/3579 - 0s - loss: 0.2005 - accuracy: 0.9229 - val_loss: 0.2329 - val_accuracy: 0.9060\n",
      "Epoch 58/100\n",
      "3579/3579 - 0s - loss: 0.2012 - accuracy: 0.9248 - val_loss: 0.2336 - val_accuracy: 0.9083\n",
      "Epoch 59/100\n",
      "3579/3579 - 0s - loss: 0.2020 - accuracy: 0.9257 - val_loss: 0.2359 - val_accuracy: 0.9060\n",
      "Epoch 60/100\n",
      "3579/3579 - 0s - loss: 0.2019 - accuracy: 0.9229 - val_loss: 0.2306 - val_accuracy: 0.9083\n",
      "Epoch 61/100\n",
      "3579/3579 - 0s - loss: 0.2043 - accuracy: 0.9234 - val_loss: 0.2350 - val_accuracy: 0.9105\n",
      "Epoch 62/100\n",
      "3579/3579 - 0s - loss: 0.2010 - accuracy: 0.9248 - val_loss: 0.2297 - val_accuracy: 0.9128\n",
      "Epoch 63/100\n",
      "3579/3579 - 0s - loss: 0.2017 - accuracy: 0.9223 - val_loss: 0.2383 - val_accuracy: 0.9083\n",
      "Epoch 64/100\n",
      "3579/3579 - 0s - loss: 0.2017 - accuracy: 0.9257 - val_loss: 0.2289 - val_accuracy: 0.9105\n",
      "Epoch 65/100\n",
      "3579/3579 - 0s - loss: 0.2000 - accuracy: 0.9240 - val_loss: 0.2343 - val_accuracy: 0.9060\n",
      "Epoch 66/100\n",
      "3579/3579 - 0s - loss: 0.2026 - accuracy: 0.9229 - val_loss: 0.2391 - val_accuracy: 0.9150\n",
      "Epoch 67/100\n",
      "3579/3579 - 0s - loss: 0.2030 - accuracy: 0.9237 - val_loss: 0.2403 - val_accuracy: 0.9016\n",
      "Epoch 68/100\n",
      "3579/3579 - 0s - loss: 0.2029 - accuracy: 0.9246 - val_loss: 0.2342 - val_accuracy: 0.9105\n",
      "Epoch 69/100\n",
      "3579/3579 - 0s - loss: 0.2048 - accuracy: 0.9234 - val_loss: 0.2376 - val_accuracy: 0.9105\n",
      "Epoch 70/100\n",
      "3579/3579 - 0s - loss: 0.1988 - accuracy: 0.9260 - val_loss: 0.2331 - val_accuracy: 0.9105\n",
      "Epoch 71/100\n",
      "3579/3579 - 0s - loss: 0.2008 - accuracy: 0.9248 - val_loss: 0.2330 - val_accuracy: 0.9083\n",
      "Epoch 72/100\n",
      "3579/3579 - 0s - loss: 0.1974 - accuracy: 0.9248 - val_loss: 0.2298 - val_accuracy: 0.9105\n",
      "Epoch 73/100\n",
      "3579/3579 - 0s - loss: 0.1991 - accuracy: 0.9229 - val_loss: 0.2304 - val_accuracy: 0.9105\n",
      "Epoch 74/100\n",
      "3579/3579 - 0s - loss: 0.2089 - accuracy: 0.9254 - val_loss: 0.2323 - val_accuracy: 0.9128\n",
      "Epoch 75/100\n",
      "3579/3579 - 0s - loss: 0.2020 - accuracy: 0.9254 - val_loss: 0.2312 - val_accuracy: 0.9083\n",
      "Epoch 76/100\n",
      "3579/3579 - 0s - loss: 0.2025 - accuracy: 0.9223 - val_loss: 0.2298 - val_accuracy: 0.9150\n",
      "Epoch 77/100\n",
      "3579/3579 - 0s - loss: 0.1972 - accuracy: 0.9246 - val_loss: 0.2317 - val_accuracy: 0.9083\n",
      "Epoch 78/100\n",
      "3579/3579 - 0s - loss: 0.2007 - accuracy: 0.9254 - val_loss: 0.2378 - val_accuracy: 0.9083\n",
      "Epoch 79/100\n",
      "3579/3579 - 0s - loss: 0.1962 - accuracy: 0.9248 - val_loss: 0.2378 - val_accuracy: 0.9083\n"
     ]
    },
    {
     "name": "stdout",
     "output_type": "stream",
     "text": [
      "Epoch 80/100\n",
      "3579/3579 - 0s - loss: 0.2005 - accuracy: 0.9246 - val_loss: 0.2340 - val_accuracy: 0.9060\n",
      "Epoch 81/100\n",
      "3579/3579 - 0s - loss: 0.2007 - accuracy: 0.9262 - val_loss: 0.2386 - val_accuracy: 0.9060\n",
      "Epoch 82/100\n",
      "3579/3579 - 0s - loss: 0.1987 - accuracy: 0.9243 - val_loss: 0.2336 - val_accuracy: 0.9105\n",
      "Epoch 83/100\n",
      "3579/3579 - 0s - loss: 0.1993 - accuracy: 0.9237 - val_loss: 0.2342 - val_accuracy: 0.9083\n",
      "Epoch 84/100\n",
      "3579/3579 - 0s - loss: 0.1961 - accuracy: 0.9246 - val_loss: 0.2365 - val_accuracy: 0.9060\n",
      "Epoch 85/100\n",
      "3579/3579 - 0s - loss: 0.1997 - accuracy: 0.9243 - val_loss: 0.2328 - val_accuracy: 0.9128\n",
      "Epoch 86/100\n",
      "3579/3579 - 0s - loss: 0.1964 - accuracy: 0.9251 - val_loss: 0.2301 - val_accuracy: 0.9150\n",
      "Epoch 87/100\n",
      "3579/3579 - 0s - loss: 0.1977 - accuracy: 0.9260 - val_loss: 0.2312 - val_accuracy: 0.9060\n",
      "Epoch 88/100\n",
      "3579/3579 - 0s - loss: 0.1976 - accuracy: 0.9254 - val_loss: 0.2397 - val_accuracy: 0.9105\n",
      "Epoch 89/100\n",
      "3579/3579 - 0s - loss: 0.1973 - accuracy: 0.9260 - val_loss: 0.2322 - val_accuracy: 0.9083\n",
      "Epoch 90/100\n",
      "3579/3579 - 0s - loss: 0.1967 - accuracy: 0.9248 - val_loss: 0.2369 - val_accuracy: 0.9105\n",
      "Epoch 91/100\n",
      "3579/3579 - 0s - loss: 0.2004 - accuracy: 0.9243 - val_loss: 0.2340 - val_accuracy: 0.9083\n",
      "Epoch 92/100\n",
      "3579/3579 - 0s - loss: 0.1963 - accuracy: 0.9243 - val_loss: 0.2314 - val_accuracy: 0.9105\n",
      "Epoch 93/100\n",
      "3579/3579 - 0s - loss: 0.2007 - accuracy: 0.9260 - val_loss: 0.2346 - val_accuracy: 0.9083\n",
      "Epoch 94/100\n",
      "3579/3579 - 0s - loss: 0.1971 - accuracy: 0.9257 - val_loss: 0.2389 - val_accuracy: 0.9083\n",
      "Epoch 95/100\n",
      "3579/3579 - 0s - loss: 0.1950 - accuracy: 0.9257 - val_loss: 0.2321 - val_accuracy: 0.9105\n",
      "Epoch 96/100\n",
      "3579/3579 - 0s - loss: 0.1971 - accuracy: 0.9268 - val_loss: 0.2381 - val_accuracy: 0.9083\n",
      "Epoch 97/100\n",
      "3579/3579 - 0s - loss: 0.1975 - accuracy: 0.9262 - val_loss: 0.2310 - val_accuracy: 0.9083\n",
      "Epoch 98/100\n",
      "3579/3579 - 0s - loss: 0.1961 - accuracy: 0.9257 - val_loss: 0.2309 - val_accuracy: 0.9083\n",
      "Epoch 99/100\n",
      "3579/3579 - 0s - loss: 0.1984 - accuracy: 0.9262 - val_loss: 0.2372 - val_accuracy: 0.9083\n",
      "Epoch 100/100\n",
      "3579/3579 - 0s - loss: 0.1985 - accuracy: 0.9254 - val_loss: 0.2297 - val_accuracy: 0.9105\n"
     ]
    },
    {
     "data": {
      "text/plain": [
       "<tensorflow.python.keras.callbacks.History at 0x1885488df60>"
      ]
     },
     "execution_count": 11,
     "metadata": {},
     "output_type": "execute_result"
    }
   ],
   "source": [
    "BATCH_SIZE = 100\n",
    "max_epochs = 100\n",
    "\n",
    "\n",
    "# let's set patience=2, to be a bit tolerant against random validation loss increases\n",
    "# as we can see the above validation accuracy is oscillating so we should introduce early stopping\n",
    "early_stopping = tf.keras.callbacks.EarlyStopping(patience=2)\n",
    "\n",
    "model.fit(train_inputs,\n",
    "         train_targets,\n",
    "         batch_size = BATCH_SIZE,\n",
    "         epochs = max_epochs,\n",
    "         callbacks=[early_stopping],\n",
    "         validation_data = (validation_inputs,validation_targets),\n",
    "         verbose = 2)"
   ]
  },
  {
   "cell_type": "markdown",
   "metadata": {},
   "source": [
    "# Test The Model"
   ]
  },
  {
   "cell_type": "code",
   "execution_count": 16,
   "metadata": {},
   "outputs": [
    {
     "name": "stdout",
     "output_type": "stream",
     "text": [
      "448/1 - 0s - loss: 0.2916 - accuracy: 0.8862\n"
     ]
    }
   ],
   "source": [
    "test_loss,test_accuracy = model.evaluate(test_inputs,test_targets,verbose = 2)"
   ]
  },
  {
   "cell_type": "code",
   "execution_count": 19,
   "metadata": {},
   "outputs": [
    {
     "name": "stdout",
     "output_type": "stream",
     "text": [
      "The accuracy of the model is : 0.88616073\n"
     ]
    }
   ],
   "source": [
    "print('The accuracy of the model is :',test_accuracy)"
   ]
  },
  {
   "cell_type": "code",
   "execution_count": null,
   "metadata": {},
   "outputs": [],
   "source": []
  }
 ],
 "metadata": {
  "kernelspec": {
   "display_name": "Python 3",
   "language": "python",
   "name": "python3"
  },
  "language_info": {
   "codemirror_mode": {
    "name": "ipython",
    "version": 3
   },
   "file_extension": ".py",
   "mimetype": "text/x-python",
   "name": "python",
   "nbconvert_exporter": "python",
   "pygments_lexer": "ipython3",
   "version": "3.7.3"
  }
 },
 "nbformat": 4,
 "nbformat_minor": 2
}
